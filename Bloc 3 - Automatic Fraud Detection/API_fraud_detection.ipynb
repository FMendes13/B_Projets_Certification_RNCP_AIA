{
 "cells": [
  {
   "cell_type": "code",
   "execution_count": 15,
   "metadata": {},
   "outputs": [],
   "source": [
    "import pandas as pd \n",
    "import requests\n",
    "import json"
   ]
  },
  {
   "cell_type": "code",
   "execution_count": 16,
   "metadata": {},
   "outputs": [
    {
     "data": {
      "text/plain": [
       "<Response [200]>"
      ]
     },
     "execution_count": 16,
     "metadata": {},
     "output_type": "execute_result"
    }
   ],
   "source": [
    "url='https://charlestng-real-time-fraud-detection.hf.space/current-transactions'\n",
    "response= requests.get(url)\n",
    "response"
   ]
  },
  {
   "cell_type": "code",
   "execution_count": 17,
   "metadata": {},
   "outputs": [
    {
     "data": {
      "text/plain": [
       "'{\"columns\":[\"cc_num\",\"merchant\",\"category\",\"amt\",\"first\",\"last\",\"gender\",\"street\",\"city\",\"state\",\"zip\",\"lat\",\"long\",\"city_pop\",\"job\",\"dob\",\"trans_num\",\"merch_lat\",\"merch_long\",\"is_fraud\",\"current_time\"],\"index\":[333732],\"data\":[[3563837241599446,\"fraud_Kiehn Inc\",\"grocery_pos\",61.03,\"Timothy\",\"Simmons\",\"M\",\"1049 John Ports Suite 057\",\"Newberg\",\"OR\",97132,45.3099,-122.9685,28278,\"Research scientist (physical sciences)\",\"1977-07-17\",\"9385eb3b6f8441f8ac74b9ff6115784b\",44.89607,-123.959538,0,1742894960943]]}'"
      ]
     },
     "execution_count": 17,
     "metadata": {},
     "output_type": "execute_result"
    }
   ],
   "source": [
    "data=response.json()\n",
    "data"
   ]
  },
  {
   "cell_type": "code",
   "execution_count": 18,
   "metadata": {},
   "outputs": [
    {
     "data": {
      "text/plain": [
       "str"
      ]
     },
     "execution_count": 18,
     "metadata": {},
     "output_type": "execute_result"
    }
   ],
   "source": [
    "type(data)"
   ]
  },
  {
   "cell_type": "code",
   "execution_count": 19,
   "metadata": {},
   "outputs": [
    {
     "data": {
      "text/plain": [
       "str"
      ]
     },
     "execution_count": 19,
     "metadata": {},
     "output_type": "execute_result"
    }
   ],
   "source": [
    "data = json.loads(response.text)\n",
    "type(data)"
   ]
  },
  {
   "cell_type": "code",
   "execution_count": 22,
   "metadata": {},
   "outputs": [
    {
     "name": "stdout",
     "output_type": "stream",
     "text": [
      "DataFrame créé avec succès :\n"
     ]
    }
   ],
   "source": [
    "if response.status_code == 200:\n",
    "    try:\n",
    "        # Supprimer les guillemets autour d'un JSON sous forme de chaîne\n",
    "        text_response = response.text.strip().strip('\"').replace('\\\\\"', '\"')\n",
    "\n",
    "        # Conversion en JSON\n",
    "        data = json.loads(text_response)\n",
    "\n",
    "        # Vérification des clés et création du DataFrame\n",
    "        if 'data' in data and 'columns' in data:\n",
    "            df = pd.DataFrame(data['data'], columns=data['columns'])\n",
    "            print(\"DataFrame créé avec succès :\")\n",
    "            df.head()\n",
    "        else:\n",
    "            print(\"Les clés 'data' et 'columns' n'existent pas dans la réponse.\")\n",
    "    except json.JSONDecodeError as e:\n",
    "        print(f\"Erreur lors de la conversion en JSON : {e}\")\n",
    "else:\n",
    "    print(f\"Échec de la requête API, statut: {response.status_code}\")"
   ]
  },
  {
   "cell_type": "code",
   "execution_count": 21,
   "metadata": {},
   "outputs": [
    {
     "data": {
      "text/html": [
       "<div>\n",
       "<style scoped>\n",
       "    .dataframe tbody tr th:only-of-type {\n",
       "        vertical-align: middle;\n",
       "    }\n",
       "\n",
       "    .dataframe tbody tr th {\n",
       "        vertical-align: top;\n",
       "    }\n",
       "\n",
       "    .dataframe thead th {\n",
       "        text-align: right;\n",
       "    }\n",
       "</style>\n",
       "<table border=\"1\" class=\"dataframe\">\n",
       "  <thead>\n",
       "    <tr style=\"text-align: right;\">\n",
       "      <th></th>\n",
       "      <th>cc_num</th>\n",
       "      <th>merchant</th>\n",
       "      <th>category</th>\n",
       "      <th>amt</th>\n",
       "      <th>first</th>\n",
       "      <th>last</th>\n",
       "      <th>gender</th>\n",
       "      <th>street</th>\n",
       "      <th>city</th>\n",
       "      <th>state</th>\n",
       "      <th>...</th>\n",
       "      <th>lat</th>\n",
       "      <th>long</th>\n",
       "      <th>city_pop</th>\n",
       "      <th>job</th>\n",
       "      <th>dob</th>\n",
       "      <th>trans_num</th>\n",
       "      <th>merch_lat</th>\n",
       "      <th>merch_long</th>\n",
       "      <th>is_fraud</th>\n",
       "      <th>current_time</th>\n",
       "    </tr>\n",
       "  </thead>\n",
       "  <tbody>\n",
       "    <tr>\n",
       "      <th>0</th>\n",
       "      <td>3563837241599446</td>\n",
       "      <td>fraud_Kiehn Inc</td>\n",
       "      <td>grocery_pos</td>\n",
       "      <td>61.03</td>\n",
       "      <td>Timothy</td>\n",
       "      <td>Simmons</td>\n",
       "      <td>M</td>\n",
       "      <td>1049 John Ports Suite 057</td>\n",
       "      <td>Newberg</td>\n",
       "      <td>OR</td>\n",
       "      <td>...</td>\n",
       "      <td>45.3099</td>\n",
       "      <td>-122.9685</td>\n",
       "      <td>28278</td>\n",
       "      <td>Research scientist (physical sciences)</td>\n",
       "      <td>1977-07-17</td>\n",
       "      <td>9385eb3b6f8441f8ac74b9ff6115784b</td>\n",
       "      <td>44.89607</td>\n",
       "      <td>-123.959538</td>\n",
       "      <td>0</td>\n",
       "      <td>1742894960943</td>\n",
       "    </tr>\n",
       "  </tbody>\n",
       "</table>\n",
       "<p>1 rows × 21 columns</p>\n",
       "</div>"
      ],
      "text/plain": [
       "             cc_num         merchant     category    amt    first     last  \\\n",
       "0  3563837241599446  fraud_Kiehn Inc  grocery_pos  61.03  Timothy  Simmons   \n",
       "\n",
       "  gender                     street     city state  ...      lat      long  \\\n",
       "0      M  1049 John Ports Suite 057  Newberg    OR  ...  45.3099 -122.9685   \n",
       "\n",
       "   city_pop                                     job         dob  \\\n",
       "0     28278  Research scientist (physical sciences)  1977-07-17   \n",
       "\n",
       "                          trans_num merch_lat  merch_long  is_fraud  \\\n",
       "0  9385eb3b6f8441f8ac74b9ff6115784b  44.89607 -123.959538         0   \n",
       "\n",
       "    current_time  \n",
       "0  1742894960943  \n",
       "\n",
       "[1 rows x 21 columns]"
      ]
     },
     "execution_count": 21,
     "metadata": {},
     "output_type": "execute_result"
    }
   ],
   "source": [
    "df"
   ]
  },
  {
   "cell_type": "code",
   "execution_count": 23,
   "metadata": {},
   "outputs": [
    {
     "data": {
      "text/plain": [
       "Index(['cc_num', 'merchant', 'category', 'amt', 'first', 'last', 'gender',\n",
       "       'street', 'city', 'state', 'zip', 'lat', 'long', 'city_pop', 'job',\n",
       "       'dob', 'trans_num', 'merch_lat', 'merch_long', 'is_fraud',\n",
       "       'current_time'],\n",
       "      dtype='object')"
      ]
     },
     "execution_count": 23,
     "metadata": {},
     "output_type": "execute_result"
    }
   ],
   "source": [
    "df.columns"
   ]
  },
  {
   "cell_type": "code",
   "execution_count": null,
   "metadata": {},
   "outputs": [],
   "source": []
  }
 ],
 "metadata": {
  "kernelspec": {
   "display_name": "base",
   "language": "python",
   "name": "python3"
  },
  "language_info": {
   "codemirror_mode": {
    "name": "ipython",
    "version": 3
   },
   "file_extension": ".py",
   "mimetype": "text/x-python",
   "name": "python",
   "nbconvert_exporter": "python",
   "pygments_lexer": "ipython3",
   "version": "3.12.4"
  }
 },
 "nbformat": 4,
 "nbformat_minor": 2
}
